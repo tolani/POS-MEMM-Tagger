{
 "cells": [
  {
   "cell_type": "markdown",
   "metadata": {},
   "source": [
    "## Training softmax model on train data : For 'C^2' number of classes\n",
    "\n",
    "* This notebook is doing the same work as previous one (2.softmax_training) with one difference that in this we ll train softmax model on c^2 number of classes"
   ]
  },
  {
   "cell_type": "code",
   "execution_count": null,
   "metadata": {
    "collapsed": true
   },
   "outputs": [],
   "source": [
    "# importing necessary packages\n",
    "import pandas as pd\n",
    "import numpy as np"
   ]
  },
  {
   "cell_type": "markdown",
   "metadata": {},
   "source": [
    "### loading feateurzied data matrix from disk"
   ]
  },
  {
   "cell_type": "code",
   "execution_count": null,
   "metadata": {},
   "outputs": [],
   "source": [
    "df = pd.read_csv('./final_df.csv')\n",
    "df.head()"
   ]
  },
  {
   "cell_type": "markdown",
   "metadata": {},
   "source": [
    "### adding more features"
   ]
  },
  {
   "cell_type": "code",
   "execution_count": null,
   "metadata": {},
   "outputs": [],
   "source": [
    "length = []\n",
    "for s in df['word']:\n",
    "    length.append(len(s))\n",
    "\n",
    "length_2 = np.asarray(length).reshape(-1,1)\n",
    "df['length'] = length_2\n",
    "df.head()"
   ]
  },
  {
   "cell_type": "code",
   "execution_count": null,
   "metadata": {
    "collapsed": true
   },
   "outputs": [],
   "source": [
    "hyphen = []\n",
    "all_cap = []\n",
    "sp_char = []\n",
    "cap_dot = []\n",
    "number = []\n",
    "st_alpha_dot = []\n",
    "e_day = []\n",
    "for i in df['word']:\n",
    "    if('-' in i):\n",
    "        hyphen.append(1)\n",
    "    else:\n",
    "        hyphen.append(0)\n",
    "    if(i.isupper()):\n",
    "        all_cap.append(1)\n",
    "    else:\n",
    "        all_cap.append(0)\n",
    "    if(('$' in i or ',' in i or '%' in i or '!' in i or '\\'' in i or '\"' in i) \\\n",
    "       and len(i) == 1):\n",
    "        sp_char.append(1)\n",
    "    else:\n",
    "        sp_char.append(0)\n",
    "    if(i[0].isupper() and i.endswith('.')):\n",
    "        cap_dot.append(1)\n",
    "    else:\n",
    "        cap_dot.append(0)\n",
    "    if(i[0].isdigit() and i[-1].isdigit() and ('.' in i or ',' in i)):\n",
    "        number.append(1)\n",
    "    else:\n",
    "        number.append(0)\n",
    "    if(i[0].isalpha() and '.' in i):\n",
    "        st_alpha_dot.append(1)\n",
    "    else:\n",
    "        st_alpha_dot.append(0)\n",
    "    if(i.endswith('day')):\n",
    "        e_day.append(1)\n",
    "    else:\n",
    "        e_day.append(0)\n",
    "#print('\\'')"
   ]
  },
  {
   "cell_type": "code",
   "execution_count": null,
   "metadata": {
    "collapsed": true
   },
   "outputs": [],
   "source": [
    "df['hyphen'] = hyphen\n",
    "df['all_cap'] = all_cap\n",
    "df['sp_char'] = sp_char\n",
    "df['cap_dot'] = cap_dot\n",
    "df['number'] = number\n",
    "df['st_alpha_dot'] = st_alpha_dot\n",
    "df['e_day'] = e_day"
   ]
  },
  {
   "cell_type": "code",
   "execution_count": null,
   "metadata": {},
   "outputs": [],
   "source": [
    "tags = df.tag.unique()\n",
    "len(tags)"
   ]
  },
  {
   "cell_type": "markdown",
   "metadata": {},
   "source": [
    "### creating c^2 number of classes : possible classes from train data"
   ]
  },
  {
   "cell_type": "code",
   "execution_count": null,
   "metadata": {
    "collapsed": true
   },
   "outputs": [],
   "source": [
    "bigram = []\n",
    "for i in df.index.values:\n",
    "    if( i == 0):\n",
    "        s = 'DT'\n",
    "        tag = \" \".join([s, df.tag[i]])\n",
    "        bigram.append(tag)\n",
    "    else:\n",
    "        tag = \" \".join([df.tag[i-1], df.tag[i]])\n",
    "        bigram.append(tag)        "
   ]
  },
  {
   "cell_type": "code",
   "execution_count": null,
   "metadata": {
    "collapsed": true
   },
   "outputs": [],
   "source": [
    "tags = np.asarray(bigram)"
   ]
  },
  {
   "cell_type": "code",
   "execution_count": null,
   "metadata": {
    "collapsed": true
   },
   "outputs": [],
   "source": [
    "df['tags'] = bigram"
   ]
  },
  {
   "cell_type": "code",
   "execution_count": null,
   "metadata": {},
   "outputs": [],
   "source": [
    "df.head()"
   ]
  },
  {
   "cell_type": "markdown",
   "metadata": {
    "collapsed": true
   },
   "source": [
    "### Data Matrix X and target coln y"
   ]
  },
  {
   "cell_type": "code",
   "execution_count": null,
   "metadata": {},
   "outputs": [],
   "source": [
    "data = np.array(df)\n",
    "\n",
    "x = data[:,2:-1]\n",
    "x.shape\n",
    "y = df['tags']\n",
    "y.shape\n",
    "x.shape"
   ]
  },
  {
   "cell_type": "markdown",
   "metadata": {},
   "source": [
    "### Adding context in feautres (prev and next)"
   ]
  },
  {
   "cell_type": "code",
   "execution_count": null,
   "metadata": {
    "collapsed": true
   },
   "outputs": [],
   "source": [
    "no_cols = x.shape[1] * 5\n",
    "features = np.zeros((211730,no_cols))\n",
    "\n",
    "b = no_cols / 5\n",
    "b = int(b)"
   ]
  },
  {
   "cell_type": "code",
   "execution_count": null,
   "metadata": {
    "collapsed": true
   },
   "outputs": [],
   "source": [
    "# taking prev and next words as feature vectors : appending \n",
    "# the stored feature vectors of the same\n",
    "\n",
    "for i in range(x.shape[0]):\n",
    "    if(i==0):\n",
    "        features[i][b * 2: b* 3] = x[i]\n",
    "        features[i][b* 3:b* 4] = x[i+1]\n",
    "        features[i][b* 4:b* 5] = x[i+2]\n",
    "    \n",
    "    elif(i == 1):\n",
    "        features[i][b* 1:b* 2] = x[i-1]\n",
    "        features[i][b* 3:b* 4] = x[i+1]\n",
    "        features[i][b* 2:b* 3] = x[i]\n",
    "        features[i][b* 4:b* 5] = x[i+2]\n",
    "        \n",
    "    elif(i == x.shape[0]-1):\n",
    "        features[i][0:b* 1] = x[i-2]\n",
    "        features[i][b* 1:b* 2] = x[i-1]\n",
    "        features[i][b* 2:b* 3] = x[i]\n",
    "\n",
    "    elif(i == x.shape[0]-2):\n",
    "        features[i][b* 3:b* 4] = x[i+1]\n",
    "        features[i][0:b* 1] = x[i-2]\n",
    "        features[i][b* 1:b* 2] = x[i-1]\n",
    "        features[i][b* 2:b* 3] = x[i]\n",
    "    \n",
    "    else:\n",
    "        features[i][0:b* 1] = x[i-2]\n",
    "        features[i][b* 1:b* 2] = x[i-1]\n",
    "        features[i][b* 2:b* 3] = x[i]\n",
    "        features[i][b* 3:b* 4] = x[i+1]\n",
    "        features[i][b* 4:b* 5] = x[i+2]"
   ]
  },
  {
   "cell_type": "code",
   "execution_count": null,
   "metadata": {},
   "outputs": [],
   "source": [
    "features[features.shape[0]]"
   ]
  },
  {
   "cell_type": "code",
   "execution_count": null,
   "metadata": {},
   "outputs": [],
   "source": [
    "feature_vect = features[:-3]\n",
    "feature_vect.shape"
   ]
  },
  {
   "cell_type": "code",
   "execution_count": null,
   "metadata": {
    "collapsed": true
   },
   "outputs": [],
   "source": [
    "counts = dict(df['tags'].value_counts())"
   ]
  },
  {
   "cell_type": "code",
   "execution_count": null,
   "metadata": {},
   "outputs": [],
   "source": [
    "for i in counts:\n",
    "    if(counts[i] < 8):\n",
    "        print(i)       "
   ]
  },
  {
   "cell_type": "markdown",
   "metadata": {
    "collapsed": true
   },
   "source": [
    "### importing packages for running softmax on c^2 no of classes"
   ]
  },
  {
   "cell_type": "code",
   "execution_count": null,
   "metadata": {},
   "outputs": [],
   "source": [
    "from sklearn import cross_validation\n",
    "from sklearn.model_selection import train_test_split\n",
    "from sklearn.naive_bayes import MultinomialNB\n",
    "from sklearn.metrics import accuracy_score\n",
    "from sklearn.metrics import confusion_matrix\n",
    "from sklearn.linear_model import LogisticRegression\n",
    "import pickle"
   ]
  },
  {
   "cell_type": "code",
   "execution_count": null,
   "metadata": {
    "collapsed": true
   },
   "outputs": [],
   "source": [
    "from sklearn import preprocessing\n",
    "le = preprocessing.LabelEncoder()\n",
    "le.fit(y)\n",
    "Y = le.transform(y)"
   ]
  },
  {
   "cell_type": "code",
   "execution_count": null,
   "metadata": {},
   "outputs": [],
   "source": [
    "np.unique(Y).shape"
   ]
  },
  {
   "cell_type": "code",
   "execution_count": null,
   "metadata": {},
   "outputs": [],
   "source": [
    "softmax_2 = LogisticRegression( multi_class = 'multinomial', solver = 'sag')\n",
    "softmax_2.fit(feature_vect,Y)"
   ]
  },
  {
   "cell_type": "markdown",
   "metadata": {
    "collapsed": true
   },
   "source": [
    "### storing trained softmax model "
   ]
  },
  {
   "cell_type": "code",
   "execution_count": null,
   "metadata": {
    "collapsed": true
   },
   "outputs": [],
   "source": [
    "pickle.dump(softmax_2, open('softmax_dual.pkl', 'wb'))"
   ]
  },
  {
   "cell_type": "markdown",
   "metadata": {},
   "source": [
    "### storing c^2 no of classes mapping : we ll use this in viterbi algorithm"
   ]
  },
  {
   "cell_type": "code",
   "execution_count": null,
   "metadata": {
    "collapsed": true
   },
   "outputs": [],
   "source": [
    "pair = dict()\n",
    "for i in range(Y.shape[0]):\n",
    "    pair[y[i]] = Y[i]"
   ]
  },
  {
   "cell_type": "code",
   "execution_count": null,
   "metadata": {},
   "outputs": [],
   "source": [
    "len(pair)"
   ]
  },
  {
   "cell_type": "code",
   "execution_count": null,
   "metadata": {
    "collapsed": true
   },
   "outputs": [],
   "source": [
    "pickle.dump(pair, open('pair_bigrams.pkl', 'wb'))"
   ]
  },
  {
   "cell_type": "code",
   "execution_count": null,
   "metadata": {},
   "outputs": [],
   "source": [
    "softmax_2.predict_proba(feature_vect[3].reshape(1,-1))"
   ]
  },
  {
   "cell_type": "code",
   "execution_count": null,
   "metadata": {},
   "outputs": [],
   "source": [
    "pair"
   ]
  }
 ],
 "metadata": {
  "kernelspec": {
   "display_name": "Python 3",
   "language": "python",
   "name": "python3"
  },
  "language_info": {
   "codemirror_mode": {
    "name": "ipython",
    "version": 3
   },
   "file_extension": ".py",
   "mimetype": "text/x-python",
   "name": "python",
   "nbconvert_exporter": "python",
   "pygments_lexer": "ipython3",
   "version": "3.6.3"
  }
 },
 "nbformat": 4,
 "nbformat_minor": 2
}
