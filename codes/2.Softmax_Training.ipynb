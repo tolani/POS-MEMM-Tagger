{
 "cells": [
  {
   "cell_type": "markdown",
   "metadata": {},
   "source": [
    "## Training softmax model on train data : For standalone probabilities\n",
    "\n",
    "* This notebook will add some more feautres we have considered later : such as length and adding prev and next \n",
    "  context means : feature of prev word and next word ll be appended to current word feature \n",
    "* Then we ll at last run softmax model for multiclass classfication and train it on training dataset"
   ]
  },
  {
   "cell_type": "code",
   "execution_count": 1,
   "metadata": {
    "collapsed": true
   },
   "outputs": [],
   "source": [
    "# importing necessary packages\n",
    "import pandas as pd\n",
    "import numpy as np"
   ]
  },
  {
   "cell_type": "markdown",
   "metadata": {},
   "source": [
    "### loading featurized data matrix that we have already stored in disk (final_df.csv)"
   ]
  },
  {
   "cell_type": "code",
   "execution_count": 2,
   "metadata": {},
   "outputs": [
    {
     "data": {
      "text/html": [
       "<div>\n",
       "<style>\n",
       "    .dataframe thead tr:only-child th {\n",
       "        text-align: right;\n",
       "    }\n",
       "\n",
       "    .dataframe thead th {\n",
       "        text-align: left;\n",
       "    }\n",
       "\n",
       "    .dataframe tbody tr th {\n",
       "        vertical-align: top;\n",
       "    }\n",
       "</style>\n",
       "<table border=\"1\" class=\"dataframe\">\n",
       "  <thead>\n",
       "    <tr style=\"text-align: right;\">\n",
       "      <th></th>\n",
       "      <th>word</th>\n",
       "      <th>tag</th>\n",
       "      <th>capitalize</th>\n",
       "      <th>digit_first</th>\n",
       "      <th>s_dig__e_alpha</th>\n",
       "      <th>p_anti</th>\n",
       "      <th>p_pre</th>\n",
       "      <th>p_un</th>\n",
       "      <th>p_dis</th>\n",
       "      <th>p_inter</th>\n",
       "      <th>...</th>\n",
       "      <th>s_ed_ing</th>\n",
       "      <th>s_tion_ion</th>\n",
       "      <th>s_est</th>\n",
       "      <th>s_less</th>\n",
       "      <th>s_e_es</th>\n",
       "      <th>s_en</th>\n",
       "      <th>s_ly</th>\n",
       "      <th>s_er</th>\n",
       "      <th>s_'s_s'</th>\n",
       "      <th>prev_word</th>\n",
       "    </tr>\n",
       "  </thead>\n",
       "  <tbody>\n",
       "    <tr>\n",
       "      <th>0</th>\n",
       "      <td>Confidence</td>\n",
       "      <td>NN</td>\n",
       "      <td>1</td>\n",
       "      <td>0</td>\n",
       "      <td>0</td>\n",
       "      <td>0</td>\n",
       "      <td>0</td>\n",
       "      <td>0</td>\n",
       "      <td>0</td>\n",
       "      <td>0</td>\n",
       "      <td>...</td>\n",
       "      <td>0</td>\n",
       "      <td>0</td>\n",
       "      <td>0</td>\n",
       "      <td>0</td>\n",
       "      <td>1</td>\n",
       "      <td>0</td>\n",
       "      <td>0</td>\n",
       "      <td>0</td>\n",
       "      <td>0</td>\n",
       "      <td>0</td>\n",
       "    </tr>\n",
       "    <tr>\n",
       "      <th>1</th>\n",
       "      <td>in</td>\n",
       "      <td>IN</td>\n",
       "      <td>0</td>\n",
       "      <td>0</td>\n",
       "      <td>0</td>\n",
       "      <td>0</td>\n",
       "      <td>0</td>\n",
       "      <td>0</td>\n",
       "      <td>0</td>\n",
       "      <td>0</td>\n",
       "      <td>...</td>\n",
       "      <td>0</td>\n",
       "      <td>0</td>\n",
       "      <td>0</td>\n",
       "      <td>0</td>\n",
       "      <td>0</td>\n",
       "      <td>0</td>\n",
       "      <td>0</td>\n",
       "      <td>0</td>\n",
       "      <td>0</td>\n",
       "      <td>0</td>\n",
       "    </tr>\n",
       "    <tr>\n",
       "      <th>2</th>\n",
       "      <td>the</td>\n",
       "      <td>DT</td>\n",
       "      <td>0</td>\n",
       "      <td>0</td>\n",
       "      <td>0</td>\n",
       "      <td>0</td>\n",
       "      <td>0</td>\n",
       "      <td>0</td>\n",
       "      <td>0</td>\n",
       "      <td>0</td>\n",
       "      <td>...</td>\n",
       "      <td>0</td>\n",
       "      <td>0</td>\n",
       "      <td>0</td>\n",
       "      <td>0</td>\n",
       "      <td>1</td>\n",
       "      <td>0</td>\n",
       "      <td>0</td>\n",
       "      <td>0</td>\n",
       "      <td>0</td>\n",
       "      <td>0</td>\n",
       "    </tr>\n",
       "    <tr>\n",
       "      <th>3</th>\n",
       "      <td>pound</td>\n",
       "      <td>NN</td>\n",
       "      <td>0</td>\n",
       "      <td>0</td>\n",
       "      <td>0</td>\n",
       "      <td>0</td>\n",
       "      <td>0</td>\n",
       "      <td>0</td>\n",
       "      <td>0</td>\n",
       "      <td>0</td>\n",
       "      <td>...</td>\n",
       "      <td>0</td>\n",
       "      <td>0</td>\n",
       "      <td>0</td>\n",
       "      <td>0</td>\n",
       "      <td>0</td>\n",
       "      <td>0</td>\n",
       "      <td>0</td>\n",
       "      <td>0</td>\n",
       "      <td>0</td>\n",
       "      <td>1</td>\n",
       "    </tr>\n",
       "    <tr>\n",
       "      <th>4</th>\n",
       "      <td>is</td>\n",
       "      <td>VBZ</td>\n",
       "      <td>0</td>\n",
       "      <td>0</td>\n",
       "      <td>0</td>\n",
       "      <td>0</td>\n",
       "      <td>0</td>\n",
       "      <td>0</td>\n",
       "      <td>0</td>\n",
       "      <td>0</td>\n",
       "      <td>...</td>\n",
       "      <td>0</td>\n",
       "      <td>0</td>\n",
       "      <td>0</td>\n",
       "      <td>0</td>\n",
       "      <td>0</td>\n",
       "      <td>0</td>\n",
       "      <td>0</td>\n",
       "      <td>0</td>\n",
       "      <td>0</td>\n",
       "      <td>0</td>\n",
       "    </tr>\n",
       "  </tbody>\n",
       "</table>\n",
       "<p>5 rows × 27 columns</p>\n",
       "</div>"
      ],
      "text/plain": [
       "         word  tag  capitalize  digit_first  s_dig__e_alpha  p_anti  p_pre  \\\n",
       "0  Confidence   NN           1            0               0       0      0   \n",
       "1          in   IN           0            0               0       0      0   \n",
       "2         the   DT           0            0               0       0      0   \n",
       "3       pound   NN           0            0               0       0      0   \n",
       "4          is  VBZ           0            0               0       0      0   \n",
       "\n",
       "   p_un  p_dis  p_inter    ...      s_ed_ing  s_tion_ion  s_est  s_less  \\\n",
       "0     0      0        0    ...             0           0      0       0   \n",
       "1     0      0        0    ...             0           0      0       0   \n",
       "2     0      0        0    ...             0           0      0       0   \n",
       "3     0      0        0    ...             0           0      0       0   \n",
       "4     0      0        0    ...             0           0      0       0   \n",
       "\n",
       "   s_e_es  s_en  s_ly  s_er  s_'s_s'  prev_word  \n",
       "0       1     0     0     0        0          0  \n",
       "1       0     0     0     0        0          0  \n",
       "2       1     0     0     0        0          0  \n",
       "3       0     0     0     0        0          1  \n",
       "4       0     0     0     0        0          0  \n",
       "\n",
       "[5 rows x 27 columns]"
      ]
     },
     "execution_count": 2,
     "metadata": {},
     "output_type": "execute_result"
    }
   ],
   "source": [
    "df = pd.read_csv('./final_df.csv')\n",
    "df.head()"
   ]
  },
  {
   "cell_type": "markdown",
   "metadata": {},
   "source": [
    "### Adding some more features : length , hyphen , all capital etc."
   ]
  },
  {
   "cell_type": "code",
   "execution_count": 3,
   "metadata": {},
   "outputs": [
    {
     "data": {
      "text/html": [
       "<div>\n",
       "<style>\n",
       "    .dataframe thead tr:only-child th {\n",
       "        text-align: right;\n",
       "    }\n",
       "\n",
       "    .dataframe thead th {\n",
       "        text-align: left;\n",
       "    }\n",
       "\n",
       "    .dataframe tbody tr th {\n",
       "        vertical-align: top;\n",
       "    }\n",
       "</style>\n",
       "<table border=\"1\" class=\"dataframe\">\n",
       "  <thead>\n",
       "    <tr style=\"text-align: right;\">\n",
       "      <th></th>\n",
       "      <th>word</th>\n",
       "      <th>tag</th>\n",
       "      <th>capitalize</th>\n",
       "      <th>digit_first</th>\n",
       "      <th>s_dig__e_alpha</th>\n",
       "      <th>p_anti</th>\n",
       "      <th>p_pre</th>\n",
       "      <th>p_un</th>\n",
       "      <th>p_dis</th>\n",
       "      <th>p_inter</th>\n",
       "      <th>...</th>\n",
       "      <th>s_tion_ion</th>\n",
       "      <th>s_est</th>\n",
       "      <th>s_less</th>\n",
       "      <th>s_e_es</th>\n",
       "      <th>s_en</th>\n",
       "      <th>s_ly</th>\n",
       "      <th>s_er</th>\n",
       "      <th>s_'s_s'</th>\n",
       "      <th>prev_word</th>\n",
       "      <th>length</th>\n",
       "    </tr>\n",
       "  </thead>\n",
       "  <tbody>\n",
       "    <tr>\n",
       "      <th>0</th>\n",
       "      <td>Confidence</td>\n",
       "      <td>NN</td>\n",
       "      <td>1</td>\n",
       "      <td>0</td>\n",
       "      <td>0</td>\n",
       "      <td>0</td>\n",
       "      <td>0</td>\n",
       "      <td>0</td>\n",
       "      <td>0</td>\n",
       "      <td>0</td>\n",
       "      <td>...</td>\n",
       "      <td>0</td>\n",
       "      <td>0</td>\n",
       "      <td>0</td>\n",
       "      <td>1</td>\n",
       "      <td>0</td>\n",
       "      <td>0</td>\n",
       "      <td>0</td>\n",
       "      <td>0</td>\n",
       "      <td>0</td>\n",
       "      <td>10</td>\n",
       "    </tr>\n",
       "    <tr>\n",
       "      <th>1</th>\n",
       "      <td>in</td>\n",
       "      <td>IN</td>\n",
       "      <td>0</td>\n",
       "      <td>0</td>\n",
       "      <td>0</td>\n",
       "      <td>0</td>\n",
       "      <td>0</td>\n",
       "      <td>0</td>\n",
       "      <td>0</td>\n",
       "      <td>0</td>\n",
       "      <td>...</td>\n",
       "      <td>0</td>\n",
       "      <td>0</td>\n",
       "      <td>0</td>\n",
       "      <td>0</td>\n",
       "      <td>0</td>\n",
       "      <td>0</td>\n",
       "      <td>0</td>\n",
       "      <td>0</td>\n",
       "      <td>0</td>\n",
       "      <td>2</td>\n",
       "    </tr>\n",
       "    <tr>\n",
       "      <th>2</th>\n",
       "      <td>the</td>\n",
       "      <td>DT</td>\n",
       "      <td>0</td>\n",
       "      <td>0</td>\n",
       "      <td>0</td>\n",
       "      <td>0</td>\n",
       "      <td>0</td>\n",
       "      <td>0</td>\n",
       "      <td>0</td>\n",
       "      <td>0</td>\n",
       "      <td>...</td>\n",
       "      <td>0</td>\n",
       "      <td>0</td>\n",
       "      <td>0</td>\n",
       "      <td>1</td>\n",
       "      <td>0</td>\n",
       "      <td>0</td>\n",
       "      <td>0</td>\n",
       "      <td>0</td>\n",
       "      <td>0</td>\n",
       "      <td>3</td>\n",
       "    </tr>\n",
       "    <tr>\n",
       "      <th>3</th>\n",
       "      <td>pound</td>\n",
       "      <td>NN</td>\n",
       "      <td>0</td>\n",
       "      <td>0</td>\n",
       "      <td>0</td>\n",
       "      <td>0</td>\n",
       "      <td>0</td>\n",
       "      <td>0</td>\n",
       "      <td>0</td>\n",
       "      <td>0</td>\n",
       "      <td>...</td>\n",
       "      <td>0</td>\n",
       "      <td>0</td>\n",
       "      <td>0</td>\n",
       "      <td>0</td>\n",
       "      <td>0</td>\n",
       "      <td>0</td>\n",
       "      <td>0</td>\n",
       "      <td>0</td>\n",
       "      <td>1</td>\n",
       "      <td>5</td>\n",
       "    </tr>\n",
       "    <tr>\n",
       "      <th>4</th>\n",
       "      <td>is</td>\n",
       "      <td>VBZ</td>\n",
       "      <td>0</td>\n",
       "      <td>0</td>\n",
       "      <td>0</td>\n",
       "      <td>0</td>\n",
       "      <td>0</td>\n",
       "      <td>0</td>\n",
       "      <td>0</td>\n",
       "      <td>0</td>\n",
       "      <td>...</td>\n",
       "      <td>0</td>\n",
       "      <td>0</td>\n",
       "      <td>0</td>\n",
       "      <td>0</td>\n",
       "      <td>0</td>\n",
       "      <td>0</td>\n",
       "      <td>0</td>\n",
       "      <td>0</td>\n",
       "      <td>0</td>\n",
       "      <td>2</td>\n",
       "    </tr>\n",
       "  </tbody>\n",
       "</table>\n",
       "<p>5 rows × 28 columns</p>\n",
       "</div>"
      ],
      "text/plain": [
       "         word  tag  capitalize  digit_first  s_dig__e_alpha  p_anti  p_pre  \\\n",
       "0  Confidence   NN           1            0               0       0      0   \n",
       "1          in   IN           0            0               0       0      0   \n",
       "2         the   DT           0            0               0       0      0   \n",
       "3       pound   NN           0            0               0       0      0   \n",
       "4          is  VBZ           0            0               0       0      0   \n",
       "\n",
       "   p_un  p_dis  p_inter   ...    s_tion_ion  s_est  s_less  s_e_es  s_en  \\\n",
       "0     0      0        0   ...             0      0       0       1     0   \n",
       "1     0      0        0   ...             0      0       0       0     0   \n",
       "2     0      0        0   ...             0      0       0       1     0   \n",
       "3     0      0        0   ...             0      0       0       0     0   \n",
       "4     0      0        0   ...             0      0       0       0     0   \n",
       "\n",
       "   s_ly  s_er  s_'s_s'  prev_word  length  \n",
       "0     0     0        0          0      10  \n",
       "1     0     0        0          0       2  \n",
       "2     0     0        0          0       3  \n",
       "3     0     0        0          1       5  \n",
       "4     0     0        0          0       2  \n",
       "\n",
       "[5 rows x 28 columns]"
      ]
     },
     "execution_count": 3,
     "metadata": {},
     "output_type": "execute_result"
    }
   ],
   "source": [
    "length = []\n",
    "for s in df['word']:\n",
    "    length.append(len(s))\n",
    "\n",
    "length_2 = np.asarray(length).reshape(-1,1)\n",
    "df['length'] = length_2\n",
    "df.head()"
   ]
  },
  {
   "cell_type": "code",
   "execution_count": 48,
   "metadata": {
    "collapsed": true
   },
   "outputs": [],
   "source": [
    "hyphen = []\n",
    "all_cap = []\n",
    "sp_char = []\n",
    "cap_dot = []\n",
    "number = []\n",
    "st_alpha_dot = []\n",
    "e_day = []\n",
    "for i in df['word']:\n",
    "    if('-' in i):\n",
    "        hyphen.append(1)\n",
    "    else:\n",
    "        hyphen.append(0)\n",
    "    if(i.isupper()):\n",
    "        all_cap.append(1)\n",
    "    else:\n",
    "        all_cap.append(0)\n",
    "    if(('$' in i or ',' in i or '%' in i or '!' in i or '\\'' in i or '\"' in i) \\\n",
    "       and len(i) == 1):\n",
    "        sp_char.append(1)\n",
    "    else:\n",
    "        sp_char.append(0)\n",
    "    if(i[0].isupper() and i.endswith('.')):\n",
    "        cap_dot.append(1)\n",
    "    else:\n",
    "        cap_dot.append(0)\n",
    "    if(i[0].isdigit() and i[-1].isdigit() and ('.' in i or ',' in i)):\n",
    "        number.append(1)\n",
    "    else:\n",
    "        number.append(0)\n",
    "    if(i[0].isalpha() and '.' in i):\n",
    "        st_alpha_dot.append(1)\n",
    "    else:\n",
    "        st_alpha_dot.append(0)\n",
    "    if(i.endswith('day')):\n",
    "        e_day.append(1)\n",
    "    else:\n",
    "        e_day.append(0)\n",
    "#print('\\'')"
   ]
  },
  {
   "cell_type": "code",
   "execution_count": 50,
   "metadata": {
    "collapsed": true
   },
   "outputs": [],
   "source": [
    "df['hyphen'] = hyphen\n",
    "df['all_cap'] = all_cap\n",
    "df['sp_char'] = sp_char\n",
    "df['cap_dot'] = cap_dot\n",
    "df['number'] = number\n",
    "df['st_alpha_dot'] = st_alpha_dot\n",
    "df['e_day'] = e_day"
   ]
  },
  {
   "cell_type": "markdown",
   "metadata": {},
   "source": [
    "### converting dataframe to Data Matrix 'X' and target column vector 'y' "
   ]
  },
  {
   "cell_type": "code",
   "execution_count": 51,
   "metadata": {},
   "outputs": [
    {
     "data": {
      "text/plain": [
       "(211727, 33)"
      ]
     },
     "execution_count": 51,
     "metadata": {},
     "output_type": "execute_result"
    }
   ],
   "source": [
    "data = np.array(df)\n",
    "\n",
    "x = data[:,2:]\n",
    "x.shape\n",
    "y = df['tag']\n",
    "y.shape\n",
    "x.shape"
   ]
  },
  {
   "cell_type": "markdown",
   "metadata": {},
   "source": [
    "### Adding/Appending prev and next context : appending feature vect "
   ]
  },
  {
   "cell_type": "code",
   "execution_count": 52,
   "metadata": {
    "collapsed": true
   },
   "outputs": [],
   "source": [
    "no_cols = x.shape[1] * 5\n",
    "features = np.zeros((211730,no_cols))\n",
    "\n",
    "b = no_cols / 5\n",
    "b = int(b)"
   ]
  },
  {
   "cell_type": "code",
   "execution_count": 53,
   "metadata": {
    "collapsed": true
   },
   "outputs": [],
   "source": [
    "# taking prev and next words as feature vectors : appending the stored \n",
    "# feature vectors of the same\n",
    "\n",
    "for i in range(x.shape[0]):\n",
    "    if(i==0):\n",
    "        features[i][b * 2: b* 3] = x[i]\n",
    "        features[i][b* 3:b* 4] = x[i+1]\n",
    "        features[i][b* 4:b* 5] = x[i+2]\n",
    "    \n",
    "    elif(i == 1):\n",
    "        features[i][b* 1:b* 2] = x[i-1]\n",
    "        features[i][b* 3:b* 4] = x[i+1]\n",
    "        features[i][b* 2:b* 3] = x[i]\n",
    "        features[i][b* 4:b* 5] = x[i+2]\n",
    "        \n",
    "    elif(i == x.shape[0]-1):\n",
    "        features[i][0:b* 1] = x[i-2]\n",
    "        features[i][b* 1:b* 2] = x[i-1]\n",
    "        features[i][b* 2:b* 3] = x[i]\n",
    "\n",
    "    elif(i == x.shape[0]-2):\n",
    "        features[i][b* 3:b* 4] = x[i+1]\n",
    "        features[i][0:b* 1] = x[i-2]\n",
    "        features[i][b* 1:b* 2] = x[i-1]\n",
    "        features[i][b* 2:b* 3] = x[i]\n",
    "    \n",
    "    else:\n",
    "        features[i][0:b* 1] = x[i-2]\n",
    "        features[i][b* 1:b* 2] = x[i-1]\n",
    "        features[i][b* 2:b* 3] = x[i]\n",
    "        features[i][b* 3:b* 4] = x[i+1]\n",
    "        features[i][b* 4:b* 5] = x[i+2]"
   ]
  },
  {
   "cell_type": "code",
   "execution_count": 54,
   "metadata": {},
   "outputs": [
    {
     "data": {
      "text/plain": [
       "array([0., 0., 0., 0., 0., 0., 0., 0., 0., 0., 0., 0., 0., 0., 0., 0., 0.,\n",
       "       0., 0., 1., 0., 0., 0., 0., 0., 6., 0., 0., 0., 0., 0., 0., 0., 0.,\n",
       "       0., 0., 0., 0., 0., 0., 0., 0., 0., 0., 0., 0., 0., 0., 0., 0., 0.,\n",
       "       0., 0., 0., 0., 0., 0., 0., 3., 0., 0., 0., 0., 0., 0., 0., 0., 0.,\n",
       "       0., 0., 0., 0., 0., 0., 0., 0., 0., 0., 0., 0., 0., 0., 0., 0., 0.,\n",
       "       0., 0., 0., 0., 0., 0., 2., 0., 0., 0., 0., 0., 0., 0., 1., 0., 0.,\n",
       "       0., 0., 0., 0., 0., 0., 0., 0., 0., 0., 0., 0., 0., 0., 0., 0., 0.,\n",
       "       0., 0., 0., 0., 0., 6., 0., 0., 0., 0., 0., 0., 0., 1., 0., 0., 0.,\n",
       "       0., 0., 0., 0., 0., 0., 0., 0., 0., 0., 0., 0., 0., 0., 0., 0., 0.,\n",
       "       0., 0., 0., 0., 4., 0., 0., 0., 0., 0., 0., 0.])"
      ]
     },
     "execution_count": 54,
     "metadata": {},
     "output_type": "execute_result"
    }
   ],
   "source": [
    "features[features.shape[0]]"
   ]
  },
  {
   "cell_type": "code",
   "execution_count": 56,
   "metadata": {},
   "outputs": [
    {
     "data": {
      "text/plain": [
       "(211727, 165)"
      ]
     },
     "execution_count": 56,
     "metadata": {},
     "output_type": "execute_result"
    }
   ],
   "source": [
    "feature_vect = features[:-3]\n",
    "feature_vect.shape"
   ]
  },
  {
   "cell_type": "markdown",
   "metadata": {},
   "source": [
    "### Importing packages for running softmax model "
   ]
  },
  {
   "cell_type": "code",
   "execution_count": 61,
   "metadata": {
    "collapsed": true
   },
   "outputs": [],
   "source": [
    "from sklearn import cross_validation\n",
    "from sklearn.model_selection import train_test_split\n",
    "from sklearn.cross_validation import cross_val_score\n",
    "import pickle\n",
    "from sklearn.naive_bayes import MultinomialNB\n",
    "from sklearn.metrics import accuracy_score\n",
    "from sklearn.metrics import confusion_matrix\n",
    "from sklearn.linear_model import LogisticRegression"
   ]
  },
  {
   "cell_type": "markdown",
   "metadata": {},
   "source": [
    "### Using label encoder to transform target label column to numerical encoding"
   ]
  },
  {
   "cell_type": "code",
   "execution_count": 62,
   "metadata": {
    "collapsed": true
   },
   "outputs": [],
   "source": [
    "from sklearn import preprocessing\n",
    "le = preprocessing.LabelEncoder()\n",
    "le.fit(y)\n",
    "Y = le.transform(y)"
   ]
  },
  {
   "cell_type": "markdown",
   "metadata": {},
   "source": [
    "### Storing this mapping of tags to numerical numbers : we ll use this later in viterbi algorithm"
   ]
  },
  {
   "cell_type": "code",
   "execution_count": 63,
   "metadata": {
    "collapsed": true,
    "scrolled": true
   },
   "outputs": [],
   "source": [
    "pair = dict()\n",
    "for i in range(Y.shape[0]):\n",
    "    pair[y[i]] = Y[i]\n",
    "    \n",
    "pickle.dump(pair, open('pair_unigrams.pkl', 'wb'))"
   ]
  },
  {
   "cell_type": "markdown",
   "metadata": {},
   "source": [
    "### Training softmax model "
   ]
  },
  {
   "cell_type": "code",
   "execution_count": 64,
   "metadata": {},
   "outputs": [
    {
     "name": "stderr",
     "output_type": "stream",
     "text": [
      "C:\\ProgramData\\Anaconda3\\lib\\site-packages\\sklearn\\linear_model\\sag.py:326: ConvergenceWarning: The max_iter was reached which means the coef_ did not converge\n",
      "  \"the coef_ did not converge\", ConvergenceWarning)\n"
     ]
    },
    {
     "data": {
      "text/plain": [
       "LogisticRegression(C=1.0, class_weight=None, dual=False, fit_intercept=True,\n",
       "          intercept_scaling=1, max_iter=100, multi_class='multinomial',\n",
       "          n_jobs=1, penalty='l2', random_state=None, solver='sag',\n",
       "          tol=0.0001, verbose=0, warm_start=False)"
      ]
     },
     "execution_count": 64,
     "metadata": {},
     "output_type": "execute_result"
    }
   ],
   "source": [
    "softmax_2 = LogisticRegression( multi_class = 'multinomial', solver = 'sag')\n",
    "softmax_2.fit(feature_vect,Y)"
   ]
  },
  {
   "cell_type": "code",
   "execution_count": 68,
   "metadata": {
    "collapsed": true
   },
   "outputs": [],
   "source": [
    "# y_pred = softmax_2.predict(X_test)\n",
    "# accuracy_score(y_pred,y_test)"
   ]
  },
  {
   "cell_type": "markdown",
   "metadata": {},
   "source": [
    "### Storing Trained softmax model"
   ]
  },
  {
   "cell_type": "code",
   "execution_count": 65,
   "metadata": {
    "collapsed": true
   },
   "outputs": [],
   "source": [
    "pickle.dump(softmax_2, open('softmax.pkl', 'wb'))"
   ]
  }
 ],
 "metadata": {
  "kernelspec": {
   "display_name": "Python 3",
   "language": "python",
   "name": "python3"
  },
  "language_info": {
   "codemirror_mode": {
    "name": "ipython",
    "version": 3
   },
   "file_extension": ".py",
   "mimetype": "text/x-python",
   "name": "python",
   "nbconvert_exporter": "python",
   "pygments_lexer": "ipython3",
   "version": "3.6.3"
  }
 },
 "nbformat": 4,
 "nbformat_minor": 2
}
